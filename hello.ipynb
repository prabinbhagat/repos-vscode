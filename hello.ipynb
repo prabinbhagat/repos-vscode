{
 "cells": [
  {
   "cell_type": "markdown",
   "metadata": {},
   "source": [
    "##Sets\n",
    "A Set is an unordered collection data type that is iterable, mutable, and has no duplicate elements. Python's set class represents the mathematical notion of a set.This is based on a data structure known as a hash table"
   ]
  },
  {
   "cell_type": "code",
   "execution_count": 6,
   "metadata": {},
   "outputs": [
    {
     "name": "stdout",
     "output_type": "stream",
     "text": [
      "<class 'dict'>\n"
     ]
    },
    {
     "data": {
      "text/plain": [
       "set"
      ]
     },
     "execution_count": 6,
     "metadata": {},
     "output_type": "execute_result"
    }
   ],
   "source": [
    "print(type({}))        #default type is dict\n",
    "type({1})       #But when element is assigned its type changes to set"
   ]
  },
  {
   "cell_type": "code",
   "execution_count": 19,
   "metadata": {},
   "outputs": [
    {
     "name": "stdout",
     "output_type": "stream",
     "text": [
      "<class 'set'>\n",
      "{1, 2, 3, 4, 5, 'Prabin'}\n",
      "<class 'set'>\n",
      "{5, 6, 7, 8, 9}\n"
     ]
    },
    {
     "data": {
      "text/plain": [
       "5"
      ]
     },
     "execution_count": 19,
     "metadata": {},
     "output_type": "execute_result"
    }
   ],
   "source": [
    "# Curley {} braces is used for creating set like [] is used for list\n",
    "a = {1,2,3,4,5,\"Prabin\"}      # method 1 by {} braces: to create set\n",
    "print(type(a))\n",
    "print(a)\n",
    "\n",
    "b = set([5,6,7,8,9,9,9])      # method 2 by using class set: to create set here we inserted dup values but set dosent conatain dup values \n",
    "print(type(b))\n",
    "print(b)\n",
    "len(b)                        # duplicate element is removed by default\n"
   ]
  },
  {
   "cell_type": "code",
   "execution_count": 21,
   "metadata": {},
   "outputs": [
    {
     "name": "stdout",
     "output_type": "stream",
     "text": [
      "set()\n"
     ]
    },
    {
     "data": {
      "text/plain": [
       "set"
      ]
     },
     "execution_count": 21,
     "metadata": {},
     "output_type": "execute_result"
    }
   ],
   "source": [
    "## Defining an empty set\n",
    "\n",
    "mySet = set()\n",
    "print(mySet)\n",
    "type(mySet)"
   ]
  },
  {
   "cell_type": "code",
   "execution_count": 28,
   "metadata": {},
   "outputs": [
    {
     "name": "stdout",
     "output_type": "stream",
     "text": [
      "{'Dino', 'Rabin', 'Prabin'}\n"
     ]
    },
    {
     "data": {
      "text/plain": [
       "{3, 4, 5, 8, 9}"
      ]
     },
     "execution_count": 28,
     "metadata": {},
     "output_type": "execute_result"
    }
   ],
   "source": [
    "mySet = {\"Prabin\",\"Rabin\",\"Dino\",\"Prabin\",\"Rabin\"}\n",
    "print(mySet)     # Set will not have dup element when we output it Note: it has ordred/sorted itself\n",
    "\n",
    "mySet1 = {9,8,5,4,3,9,8,5,4}\n",
    "mySet1"
   ]
  },
  {
   "cell_type": "code",
   "execution_count": 26,
   "metadata": {},
   "outputs": [
    {
     "ename": "TypeError",
     "evalue": "'set' object is not subscriptable",
     "output_type": "error",
     "traceback": [
      "\u001b[1;31m---------------------------------------------------------------------------\u001b[0m",
      "\u001b[1;31mTypeError\u001b[0m                                 Traceback (most recent call last)",
      "Cell \u001b[1;32mIn [26], line 2\u001b[0m\n\u001b[0;32m      1\u001b[0m \u001b[38;5;66;03m# suppose we want to access first element of set\u001b[39;00m\n\u001b[1;32m----> 2\u001b[0m \u001b[43mmySet\u001b[49m\u001b[43m[\u001b[49m\u001b[38;5;241;43m0\u001b[39;49m\u001b[43m]\u001b[49m\n",
      "\u001b[1;31mTypeError\u001b[0m: 'set' object is not subscriptable"
     ]
    }
   ],
   "source": [
    "# suppose we want to access first element of set\n",
    "mySet[0]"
   ]
  },
  {
   "cell_type": "code",
   "execution_count": 27,
   "metadata": {},
   "outputs": [
    {
     "data": {
      "text/plain": [
       "1"
      ]
     },
     "execution_count": 27,
     "metadata": {},
     "output_type": "execute_result"
    }
   ],
   "source": [
    "lst = [1,2,3,4,5]\n",
    "lst[0]"
   ]
  },
  {
   "cell_type": "code",
   "execution_count": 30,
   "metadata": {},
   "outputs": [
    {
     "name": "stdout",
     "output_type": "stream",
     "text": [
      "Dino\n",
      "Rabin\n",
      "Prabin\n"
     ]
    }
   ],
   "source": [
    "for i in mySet:\n",
    "    print(i)"
   ]
  },
  {
   "cell_type": "markdown",
   "metadata": {},
   "source": [
    "From above we can infer that list is subscriptable but set is not.\n",
    "But, we can iterate through the elements of sets.Since, we cannot access elements of set so, we cannot change/assign items of the set"
   ]
  },
  {
   "cell_type": "code",
   "execution_count": 55,
   "metadata": {},
   "outputs": [
    {
     "data": {
      "text/plain": [
       "{'Attikinson', 'Dino', 'Prabin', 'Rabin'}"
      ]
     },
     "execution_count": 55,
     "metadata": {},
     "output_type": "execute_result"
    }
   ],
   "source": [
    "# Differnt methods of set:-\n",
    "mySet.add(\"Ram\")          #Once a set is created, you cannot change its items, but you can remove items and add new items.\n",
    "mySet.add(\"Attikinson\")\n",
    "mySet.remove(\"Ram\")\n",
    "mySet"
   ]
  },
  {
   "cell_type": "code",
   "execution_count": 66,
   "metadata": {},
   "outputs": [
    {
     "data": {
      "text/plain": [
       "{'Apple', 'Banana', 'Black', 'Green', 'Mango', 'Red'}"
      ]
     },
     "execution_count": 66,
     "metadata": {},
     "output_type": "execute_result"
    }
   ],
   "source": [
    "setx = {\"Apple\",\"Mango\",\"Banana\"}\n",
    "sety = {\"Apple\",\"Mango\",\"Banana\",\"Black\",\"Green\",\"Red\",\"Apple\"}\n",
    "setz = setx.union(sety)\n",
    "setz\n"
   ]
  },
  {
   "cell_type": "code",
   "execution_count": 78,
   "metadata": {},
   "outputs": [
    {
     "name": "stdout",
     "output_type": "stream",
     "text": [
      "set()\n"
     ]
    },
    {
     "data": {
      "text/plain": [
       "{'Black', 'Green', 'Red'}"
      ]
     },
     "execution_count": 78,
     "metadata": {},
     "output_type": "execute_result"
    }
   ],
   "source": [
    "a = setx.difference(sety)             # will return empty set\n",
    "print(a)\n",
    "sety.difference(setx)                 # Will return the unmatching elements"
   ]
  },
  {
   "cell_type": "code",
   "execution_count": 71,
   "metadata": {},
   "outputs": [
    {
     "name": "stdout",
     "output_type": "stream",
     "text": [
      "{'Banana', 'Apple', 'Mango'}\n"
     ]
    },
    {
     "data": {
      "text/plain": [
       "{'Apple', 'Banana', 'Black', 'Green', 'Mango', 'Red'}"
      ]
     },
     "execution_count": 71,
     "metadata": {},
     "output_type": "execute_result"
    }
   ],
   "source": [
    "x = sety.intersection(setx)                   # this will not update sety it will print/output items only\n",
    "print(x)\n",
    "sety"
   ]
  },
  {
   "cell_type": "code",
   "execution_count": 64,
   "metadata": {},
   "outputs": [
    {
     "data": {
      "text/plain": [
       "{'Apple'}"
      ]
     },
     "execution_count": 64,
     "metadata": {},
     "output_type": "execute_result"
    }
   ],
   "source": [
    "sety.intersection_update(setx)                 # this will print+update the set with intersected items\n",
    "sety                                           ## List can be typecast to set & we can find common elements in the list."
   ]
  },
  {
   "cell_type": "code",
   "execution_count": 80,
   "metadata": {},
   "outputs": [
    {
     "name": "stdout",
     "output_type": "stream",
     "text": [
      "True\n",
      "False\n"
     ]
    }
   ],
   "source": [
    "setx = {\"Apple\",\"Mango\",\"Banana\"}\n",
    "sety = {\"Apple\",\"Mango\",\"Banana\",\"Black\",\"Green\",\"Red\",\"Apple\"}\n",
    "\n",
    "print(sety.issuperset(setx))\n",
    "print(setx.issuperset(sety))"
   ]
  },
  {
   "cell_type": "code",
   "execution_count": 83,
   "metadata": {},
   "outputs": [
    {
     "name": "stdout",
     "output_type": "stream",
     "text": [
      "False\n"
     ]
    },
    {
     "data": {
      "text/plain": [
       "True"
      ]
     },
     "execution_count": 83,
     "metadata": {},
     "output_type": "execute_result"
    }
   ],
   "source": [
    "print(sety.issubset(setx))\n",
    "setx.issubset(sety)"
   ]
  },
  {
   "cell_type": "markdown",
   "metadata": {},
   "source": [
    "### Dictionaries\n",
    "A dictionary is a collection which is unordered, changeable and indexed. In Python dictionaries are written with curly brackets, and they have keys and values."
   ]
  },
  {
   "cell_type": "code",
   "execution_count": 15,
   "metadata": {},
   "outputs": [
    {
     "name": "stdout",
     "output_type": "stream",
     "text": [
      "<class 'dict'>\n"
     ]
    },
    {
     "data": {
      "text/plain": [
       "dict"
      ]
     },
     "execution_count": 15,
     "metadata": {},
     "output_type": "execute_result"
    }
   ],
   "source": [
    "dic = {}\n",
    "print(type(dic))\n",
    "myDic = dict()                    #creating dictionary with method\n",
    "type(myDic)"
   ]
  },
  {
   "cell_type": "code",
   "execution_count": 16,
   "metadata": {},
   "outputs": [
    {
     "data": {
      "text/plain": [
       "{1, 2, 3, 4, 5}"
      ]
     },
     "execution_count": 16,
     "metadata": {},
     "output_type": "execute_result"
    }
   ],
   "source": [
    "# How we create set\n",
    "setEg = {1,2,3,4,5}\n",
    "setEg"
   ]
  },
  {
   "cell_type": "code",
   "execution_count": 17,
   "metadata": {},
   "outputs": [
    {
     "data": {
      "text/plain": [
       "{'Fname': 'Prabin', 'Lname': 'Bhagat', 'Skill': 'Python,C#,VB.Net'}"
      ]
     },
     "execution_count": 17,
     "metadata": {},
     "output_type": "execute_result"
    }
   ],
   "source": [
    "# Creating Dictionary\n",
    "myDict = {\"Fname\":\"Prabin\",\"Lname\":\"Bhagat\",\"Skill\":\"Python,C#,VB.Net\"}\n",
    "myDict"
   ]
  },
  {
   "cell_type": "code",
   "execution_count": 60,
   "metadata": {},
   "outputs": [
    {
     "data": {
      "text/plain": [
       "'Python,C#,VB.Net'"
      ]
     },
     "execution_count": 60,
     "metadata": {},
     "output_type": "execute_result"
    }
   ],
   "source": [
    "myDict[\"Skill\"]       # Accessing values throw indexing of keys"
   ]
  },
  {
   "cell_type": "code",
   "execution_count": 105,
   "metadata": {},
   "outputs": [
    {
     "data": {
      "text/plain": [
       "dict_values(['Prabin', 'Bhagat', 'Python,C#,VB.Net', 'SMU'])"
      ]
     },
     "execution_count": 105,
     "metadata": {},
     "output_type": "execute_result"
    }
   ],
   "source": [
    "myDict.values()"
   ]
  },
  {
   "cell_type": "code",
   "execution_count": 61,
   "metadata": {},
   "outputs": [
    {
     "name": "stdout",
     "output_type": "stream",
     "text": [
      "Fname\n",
      "Lname\n",
      "Skill\n"
     ]
    }
   ],
   "source": [
    "for i in myDict:       # This will loop through all the keys of dictionary\n",
    "    print(i)"
   ]
  },
  {
   "cell_type": "code",
   "execution_count": 63,
   "metadata": {},
   "outputs": [
    {
     "name": "stdout",
     "output_type": "stream",
     "text": [
      "Prabin\n",
      "Bhagat\n",
      "Python,C#,VB.Net\n"
     ]
    }
   ],
   "source": [
    "# Suppose I want to loop through dictionary only the values then:\n",
    "for i in myDict.values():\n",
    "    print(i)"
   ]
  },
  {
   "cell_type": "code",
   "execution_count": 92,
   "metadata": {},
   "outputs": [
    {
     "name": "stdout",
     "output_type": "stream",
     "text": [
      "('Fname', 'Prabin')\n",
      "('Lname', 'Bhagat')\n",
      "('Skill', 'Python,C#,VB.Net')\n",
      "('College', 'SMU')\n"
     ]
    }
   ],
   "source": [
    "# Now i want to see all the keys with its corresponding values then\n",
    "for i in myDict.items():\n",
    "    print(i)"
   ]
  },
  {
   "cell_type": "code",
   "execution_count": 99,
   "metadata": {},
   "outputs": [
    {
     "data": {
      "text/plain": [
       "{'Fname': 'Prabin',\n",
       " 'Lname': 'Bhagat',\n",
       " 'Skill': 'Python,C#,VB.Net',\n",
       " 'College': 'SMU',\n",
       " 'Collage': 'SMU'}"
      ]
     },
     "execution_count": 99,
     "metadata": {},
     "output_type": "execute_result"
    }
   ],
   "source": [
    "# Adding items in dictionaries\n",
    "myDict['Collage'] = \"SMU\"\n",
    "myDict"
   ]
  },
  {
   "cell_type": "code",
   "execution_count": 97,
   "metadata": {},
   "outputs": [
    {
     "data": {
      "text/plain": [
       "{'Fname': 'Prabin',\n",
       " 'Lname': 'Bhagat',\n",
       " 'Skill': 'Python,C#,VB.Net',\n",
       " 'College': 'SMU'}"
      ]
     },
     "execution_count": 97,
     "metadata": {},
     "output_type": "execute_result"
    }
   ],
   "source": [
    "myDict.pop(\"Collage\")    # I want to delete the Collage key value pair\n",
    "myDict                   # We can also use del keyword to remove items eg del myDict[\"Collage\"]"
   ]
  },
  {
   "cell_type": "code",
   "execution_count": 102,
   "metadata": {},
   "outputs": [
    {
     "name": "stdout",
     "output_type": "stream",
     "text": [
      "{1: 'Bat', 2: 'Rat', 3: 'Cat', 4: 'Dog', 5: 777, 7: True}\n"
     ]
    }
   ],
   "source": [
    "myAnotherDict = {1:'Bat',2:'Rat',3:'Cat',4:\"Dog\",5:777,7:True}\n",
    "print(myAnotherDict)     # myanotherDict.clear(): clear method will empty the dictionary"
   ]
  },
  {
   "cell_type": "code",
   "execution_count": 103,
   "metadata": {},
   "outputs": [
    {
     "ename": "NameError",
     "evalue": "name 'myAnotherDict' is not defined",
     "output_type": "error",
     "traceback": [
      "\u001b[1;31m---------------------------------------------------------------------------\u001b[0m",
      "\u001b[1;31mNameError\u001b[0m                                 Traceback (most recent call last)",
      "Cell \u001b[1;32mIn [103], line 3\u001b[0m\n\u001b[0;32m      1\u001b[0m \u001b[38;5;66;03m# Now i want to del a Dictionary completly then\u001b[39;00m\n\u001b[0;32m      2\u001b[0m \u001b[38;5;28;01mdel\u001b[39;00m myAnotherDict\n\u001b[1;32m----> 3\u001b[0m \u001b[38;5;28mprint\u001b[39m(\u001b[43mmyAnotherDict\u001b[49m)\n",
      "\u001b[1;31mNameError\u001b[0m: name 'myAnotherDict' is not defined"
     ]
    }
   ],
   "source": [
    "# Now i want to del a Dictionary completly then\n",
    "del myAnotherDict\n",
    "print(myAnotherDict)   # this will result in erro as we have deleted dictionary and now we are try to access it"
   ]
  },
  {
   "cell_type": "markdown",
   "metadata": {},
   "source": [
    "### Nested Dictionaries"
   ]
  },
  {
   "cell_type": "code",
   "execution_count": 110,
   "metadata": {},
   "outputs": [
    {
     "data": {
      "text/plain": [
       "{1: {'Range Rover': 1960}, 2: {'BMW': 1949}, 3: {'Merecedes': 1947}}"
      ]
     },
     "execution_count": 110,
     "metadata": {},
     "output_type": "execute_result"
    }
   ],
   "source": [
    "myCar1 = {'Range Rover':1960}\n",
    "myCar2 = {'BMW':1949}\n",
    "myCar3 = {'Merecedes':1947}\n",
    "myCars = {1:myCar1,2:myCar2,3:myCar3}\n",
    "myCars"
   ]
  },
  {
   "cell_type": "code",
   "execution_count": 113,
   "metadata": {},
   "outputs": [
    {
     "name": "stdout",
     "output_type": "stream",
     "text": [
      "{'BMW': 1949}\n"
     ]
    },
    {
     "data": {
      "text/plain": [
       "1960"
      ]
     },
     "execution_count": 113,
     "metadata": {},
     "output_type": "execute_result"
    }
   ],
   "source": [
    "print(myCars[2])\n",
    "myCars[1]['Range Rover']         #This will print the value for given key of a nested dictionary"
   ]
  },
  {
   "cell_type": "markdown",
   "metadata": {},
   "source": [
    "### Tuples\n",
    "Use when you dont want to change values after defination"
   ]
  },
  {
   "cell_type": "markdown",
   "metadata": {},
   "source": [
    "#### Note Braces for Default Data Structures:\n",
    "1. List = [ ]\n",
    "2. Sets = { }\n",
    "3. Dict = { } with key value pairs eg 'Car1':Limo\n",
    "4. Tuple = ( )"
   ]
  },
  {
   "cell_type": "code",
   "execution_count": 114,
   "metadata": {},
   "outputs": [
    {
     "data": {
      "text/plain": [
       "tuple"
      ]
     },
     "execution_count": 114,
     "metadata": {},
     "output_type": "execute_result"
    }
   ],
   "source": [
    "# Creating an empty Tuple\n",
    "myTuple = tuple() # or myTuple = ()\n",
    "type(myTuple)"
   ]
  },
  {
   "cell_type": "code",
   "execution_count": 129,
   "metadata": {},
   "outputs": [
    {
     "data": {
      "text/plain": [
       "('Prabin', 'Robin', 'Antimal', 'Rnter', 'Prabin')"
      ]
     },
     "execution_count": 129,
     "metadata": {},
     "output_type": "execute_result"
    }
   ],
   "source": [
    "myTuple = (\"Prabin\",\"Robin\",\"Antimal\",\"Rnter\",\"Prabin\")\n",
    "myTuple"
   ]
  },
  {
   "cell_type": "code",
   "execution_count": 130,
   "metadata": {},
   "outputs": [
    {
     "data": {
      "text/plain": [
       "2"
      ]
     },
     "execution_count": 130,
     "metadata": {},
     "output_type": "execute_result"
    }
   ],
   "source": [
    "myTuple.count(\"Prabin\")"
   ]
  },
  {
   "cell_type": "code",
   "execution_count": 140,
   "metadata": {},
   "outputs": [
    {
     "name": "stdout",
     "output_type": "stream",
     "text": [
      "2\n"
     ]
    },
    {
     "data": {
      "text/plain": [
       "'Antimal'"
      ]
     },
     "execution_count": 140,
     "metadata": {},
     "output_type": "execute_result"
    }
   ],
   "source": [
    "print(myTuple.index(\"Antimal\"))\n",
    "myTuple[2]"
   ]
  },
  {
   "cell_type": "code",
   "execution_count": 141,
   "metadata": {},
   "outputs": [
    {
     "ename": "TypeError",
     "evalue": "'tuple' object does not support item assignment",
     "output_type": "error",
     "traceback": [
      "\u001b[1;31m---------------------------------------------------------------------------\u001b[0m",
      "\u001b[1;31mTypeError\u001b[0m                                 Traceback (most recent call last)",
      "Cell \u001b[1;32mIn [141], line 2\u001b[0m\n\u001b[0;32m      1\u001b[0m \u001b[38;5;66;03m# lets check if we can assin value with index\u001b[39;00m\n\u001b[1;32m----> 2\u001b[0m \u001b[43mmyTuple\u001b[49m\u001b[43m[\u001b[49m\u001b[38;5;241;43m2\u001b[39;49m\u001b[43m]\u001b[49m \u001b[38;5;241m=\u001b[39m \u001b[38;5;124m\"\u001b[39m\u001b[38;5;124mRamosa\u001b[39m\u001b[38;5;124m\"\u001b[39m\n",
      "\u001b[1;31mTypeError\u001b[0m: 'tuple' object does not support item assignment"
     ]
    }
   ],
   "source": [
    "# lets check if we can assin value with index\n",
    "myTuple[2] = \"Ramosa\"      # cant assing value after creation"
   ]
  },
  {
   "cell_type": "code",
   "execution_count": 159,
   "metadata": {},
   "outputs": [
    {
     "data": {
      "text/plain": [
       "['Prabin', 'Robin', 'Antimal', 'Rnter', 'Prabin']"
      ]
     },
     "execution_count": 159,
     "metadata": {},
     "output_type": "execute_result"
    }
   ],
   "source": [
    "# We can convert tuple into list or sets by typecasting\n",
    "list(myTuple)"
   ]
  }
 ],
 "metadata": {
  "kernelspec": {
   "display_name": "Python 3.10.7 64-bit (microsoft store)",
   "language": "python",
   "name": "python3"
  },
  "language_info": {
   "codemirror_mode": {
    "name": "ipython",
    "version": 3
   },
   "file_extension": ".py",
   "mimetype": "text/x-python",
   "name": "python",
   "nbconvert_exporter": "python",
   "pygments_lexer": "ipython3",
   "version": "3.10.7"
  },
  "orig_nbformat": 4,
  "vscode": {
   "interpreter": {
    "hash": "115542817b9774be6deadb774f73f940762ef114107d8de2331e2f9d829da16c"
   }
  }
 },
 "nbformat": 4,
 "nbformat_minor": 2
}
