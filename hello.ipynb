{
 "cells": [
  {
   "cell_type": "markdown",
   "metadata": {},
   "source": [
    "##Sets\n",
    "A Set is an unordered collection data type that is iterable, mutable, and has no duplicate elements. Python's set class represents the mathematical notion of a set.This is based on a data structure known as a hash table"
   ]
  },
  {
   "cell_type": "code",
   "execution_count": 6,
   "metadata": {},
   "outputs": [
    {
     "name": "stdout",
     "output_type": "stream",
     "text": [
      "<class 'dict'>\n"
     ]
    },
    {
     "data": {
      "text/plain": [
       "set"
      ]
     },
     "execution_count": 6,
     "metadata": {},
     "output_type": "execute_result"
    }
   ],
   "source": [
    "print(type({}))        #default type is dict\n",
    "type({1})       #But when element is assigned its type changes to set"
   ]
  },
  {
   "cell_type": "code",
   "execution_count": 19,
   "metadata": {},
   "outputs": [
    {
     "name": "stdout",
     "output_type": "stream",
     "text": [
      "<class 'set'>\n",
      "{1, 2, 3, 4, 5, 'Prabin'}\n",
      "<class 'set'>\n",
      "{5, 6, 7, 8, 9}\n"
     ]
    },
    {
     "data": {
      "text/plain": [
       "5"
      ]
     },
     "execution_count": 19,
     "metadata": {},
     "output_type": "execute_result"
    }
   ],
   "source": [
    "# Curley {} braces is used for creating set like [] is used for list\n",
    "a = {1,2,3,4,5,\"Prabin\"}      # method 1 by {} braces: to create set\n",
    "print(type(a))\n",
    "print(a)\n",
    "\n",
    "b = set([5,6,7,8,9,9,9])      # method 2 by using class set: to create set here we inserted dup values but set dosent conatain dup values \n",
    "print(type(b))\n",
    "print(b)\n",
    "len(b)                        # duplicate element is removed by default\n"
   ]
  },
  {
   "cell_type": "code",
   "execution_count": 21,
   "metadata": {},
   "outputs": [
    {
     "name": "stdout",
     "output_type": "stream",
     "text": [
      "set()\n"
     ]
    },
    {
     "data": {
      "text/plain": [
       "set"
      ]
     },
     "execution_count": 21,
     "metadata": {},
     "output_type": "execute_result"
    }
   ],
   "source": [
    "## Defining an empty set\n",
    "\n",
    "mySet = set()\n",
    "print(mySet)\n",
    "type(mySet)"
   ]
  },
  {
   "cell_type": "code",
   "execution_count": 28,
   "metadata": {},
   "outputs": [
    {
     "name": "stdout",
     "output_type": "stream",
     "text": [
      "{'Dino', 'Rabin', 'Prabin'}\n"
     ]
    },
    {
     "data": {
      "text/plain": [
       "{3, 4, 5, 8, 9}"
      ]
     },
     "execution_count": 28,
     "metadata": {},
     "output_type": "execute_result"
    }
   ],
   "source": [
    "mySet = {\"Prabin\",\"Rabin\",\"Dino\",\"Prabin\",\"Rabin\"}\n",
    "print(mySet)     # Set will not have dup element when we output it Note: it has ordred/sorted itself\n",
    "\n",
    "mySet1 = {9,8,5,4,3,9,8,5,4}\n",
    "mySet1"
   ]
  },
  {
   "cell_type": "code",
   "execution_count": 26,
   "metadata": {},
   "outputs": [
    {
     "ename": "TypeError",
     "evalue": "'set' object is not subscriptable",
     "output_type": "error",
     "traceback": [
      "\u001b[1;31m---------------------------------------------------------------------------\u001b[0m",
      "\u001b[1;31mTypeError\u001b[0m                                 Traceback (most recent call last)",
      "Cell \u001b[1;32mIn [26], line 2\u001b[0m\n\u001b[0;32m      1\u001b[0m \u001b[38;5;66;03m# suppose we want to access first element of set\u001b[39;00m\n\u001b[1;32m----> 2\u001b[0m \u001b[43mmySet\u001b[49m\u001b[43m[\u001b[49m\u001b[38;5;241;43m0\u001b[39;49m\u001b[43m]\u001b[49m\n",
      "\u001b[1;31mTypeError\u001b[0m: 'set' object is not subscriptable"
     ]
    }
   ],
   "source": [
    "# suppose we want to access first element of set\n",
    "mySet[0]"
   ]
  },
  {
   "cell_type": "code",
   "execution_count": 27,
   "metadata": {},
   "outputs": [
    {
     "data": {
      "text/plain": [
       "1"
      ]
     },
     "execution_count": 27,
     "metadata": {},
     "output_type": "execute_result"
    }
   ],
   "source": [
    "lst = [1,2,3,4,5]\n",
    "lst[0]"
   ]
  },
  {
   "cell_type": "code",
   "execution_count": 30,
   "metadata": {},
   "outputs": [
    {
     "name": "stdout",
     "output_type": "stream",
     "text": [
      "Dino\n",
      "Rabin\n",
      "Prabin\n"
     ]
    }
   ],
   "source": [
    "for i in mySet:\n",
    "    print(i)"
   ]
  },
  {
   "cell_type": "markdown",
   "metadata": {},
   "source": [
    "From above we can infer that list is subscriptable but set is not.\n",
    "But, we can iterate through the elements of sets.Since, we cannot access elements of set so, we cannot change/assign items of the set"
   ]
  },
  {
   "cell_type": "code",
   "execution_count": 55,
   "metadata": {},
   "outputs": [
    {
     "data": {
      "text/plain": [
       "{'Attikinson', 'Dino', 'Prabin', 'Rabin'}"
      ]
     },
     "execution_count": 55,
     "metadata": {},
     "output_type": "execute_result"
    }
   ],
   "source": [
    "# Differnt methods of set:-\n",
    "mySet.add(\"Ram\")          #Once a set is created, you cannot change its items, but you can remove items and add new items.\n",
    "mySet.add(\"Attikinson\")\n",
    "mySet.remove(\"Ram\")\n",
    "mySet"
   ]
  },
  {
   "cell_type": "code",
   "execution_count": 66,
   "metadata": {},
   "outputs": [
    {
     "data": {
      "text/plain": [
       "{'Apple', 'Banana', 'Black', 'Green', 'Mango', 'Red'}"
      ]
     },
     "execution_count": 66,
     "metadata": {},
     "output_type": "execute_result"
    }
   ],
   "source": [
    "setx = {\"Apple\",\"Mango\",\"Banana\"}\n",
    "sety = {\"Apple\",\"Mango\",\"Banana\",\"Black\",\"Green\",\"Red\",\"Apple\"}\n",
    "setz = setx.union(sety)\n",
    "setz\n"
   ]
  },
  {
   "cell_type": "code",
   "execution_count": 78,
   "metadata": {},
   "outputs": [
    {
     "name": "stdout",
     "output_type": "stream",
     "text": [
      "set()\n"
     ]
    },
    {
     "data": {
      "text/plain": [
       "{'Black', 'Green', 'Red'}"
      ]
     },
     "execution_count": 78,
     "metadata": {},
     "output_type": "execute_result"
    }
   ],
   "source": [
    "a = setx.difference(sety)             # will return empty set\n",
    "print(a)\n",
    "sety.difference(setx)                 # Will return the unmatching elements"
   ]
  },
  {
   "cell_type": "code",
   "execution_count": 71,
   "metadata": {},
   "outputs": [
    {
     "name": "stdout",
     "output_type": "stream",
     "text": [
      "{'Banana', 'Apple', 'Mango'}\n"
     ]
    },
    {
     "data": {
      "text/plain": [
       "{'Apple', 'Banana', 'Black', 'Green', 'Mango', 'Red'}"
      ]
     },
     "execution_count": 71,
     "metadata": {},
     "output_type": "execute_result"
    }
   ],
   "source": [
    "x = sety.intersection(setx)                   # this will not update sety it will print/output items only\n",
    "print(x)\n",
    "sety"
   ]
  },
  {
   "cell_type": "code",
   "execution_count": 64,
   "metadata": {},
   "outputs": [
    {
     "data": {
      "text/plain": [
       "{'Apple'}"
      ]
     },
     "execution_count": 64,
     "metadata": {},
     "output_type": "execute_result"
    }
   ],
   "source": [
    "sety.intersection_update(setx)                 # this will print+update the set with intersected items\n",
    "sety"
   ]
  },
  {
   "cell_type": "code",
   "execution_count": 80,
   "metadata": {},
   "outputs": [
    {
     "name": "stdout",
     "output_type": "stream",
     "text": [
      "True\n",
      "False\n"
     ]
    }
   ],
   "source": [
    "setx = {\"Apple\",\"Mango\",\"Banana\"}\n",
    "sety = {\"Apple\",\"Mango\",\"Banana\",\"Black\",\"Green\",\"Red\",\"Apple\"}\n",
    "\n",
    "print(sety.issuperset(setx))\n",
    "print(setx.issuperset(sety))"
   ]
  },
  {
   "cell_type": "code",
   "execution_count": 83,
   "metadata": {},
   "outputs": [
    {
     "name": "stdout",
     "output_type": "stream",
     "text": [
      "False\n"
     ]
    },
    {
     "data": {
      "text/plain": [
       "True"
      ]
     },
     "execution_count": 83,
     "metadata": {},
     "output_type": "execute_result"
    }
   ],
   "source": [
    "print(sety.issubset(setx))\n",
    "setx.issubset(sety)"
   ]
  }
 ],
 "metadata": {
  "kernelspec": {
   "display_name": "Python 3.10.7 64-bit (microsoft store)",
   "language": "python",
   "name": "python3"
  },
  "language_info": {
   "codemirror_mode": {
    "name": "ipython",
    "version": 3
   },
   "file_extension": ".py",
   "mimetype": "text/x-python",
   "name": "python",
   "nbconvert_exporter": "python",
   "pygments_lexer": "ipython3",
   "version": "3.10.7"
  },
  "orig_nbformat": 4,
  "vscode": {
   "interpreter": {
    "hash": "115542817b9774be6deadb774f73f940762ef114107d8de2331e2f9d829da16c"
   }
  }
 },
 "nbformat": 4,
 "nbformat_minor": 2
}
